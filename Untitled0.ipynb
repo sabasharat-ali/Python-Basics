{
  "nbformat": 4,
  "nbformat_minor": 0,
  "metadata": {
    "colab": {
      "name": "Untitled0.ipynb",
      "provenance": []
    },
    "kernelspec": {
      "name": "python3",
      "display_name": "Python 3"
    }
  },
  "cells": [
    {
      "cell_type": "code",
      "metadata": {
        "colab": {
          "base_uri": "https://localhost:8080/"
        },
        "id": "CAbFI4jWeV1X",
        "outputId": "3717b2ef-caec-4f5d-d79a-76f75d2db789"
      },
      "source": [
        "a= 2\r\n",
        "b= 2.9\r\n",
        "result = a+b\r\n",
        "print(result)\r\n",
        "type(a)"
      ],
      "execution_count": 1,
      "outputs": [
        {
          "output_type": "stream",
          "text": [
            "4.9\n"
          ],
          "name": "stdout"
        },
        {
          "output_type": "execute_result",
          "data": {
            "text/plain": [
              "int"
            ]
          },
          "metadata": {
            "tags": []
          },
          "execution_count": 1
        }
      ]
    },
    {
      "cell_type": "code",
      "metadata": {
        "colab": {
          "base_uri": "https://localhost:8080/"
        },
        "id": "C252NYTKmllJ",
        "outputId": "6e6d3478-8a06-4ca8-d363-aacc717931e7"
      },
      "source": [
        "name = input(\"Pleease enter a number\")\r\n",
        "print(\"Hello\"+ name)"
      ],
      "execution_count": 2,
      "outputs": [
        {
          "output_type": "stream",
          "text": [
            "Pleease enter a numberBasharat\n",
            "HelloBasharat\n"
          ],
          "name": "stdout"
        }
      ]
    },
    {
      "cell_type": "code",
      "metadata": {
        "colab": {
          "base_uri": "https://localhost:8080/"
        },
        "id": "t8iBnK_km_AF",
        "outputId": "93ce3601-26de-4b29-94e0-e4242368e072"
      },
      "source": [
        "Full_name = \"basharat ali\"\r\n",
        "var2 = Full_name +' Secured GPA: ' + str(b)\r\n",
        "print(var2)"
      ],
      "execution_count": 3,
      "outputs": [
        {
          "output_type": "stream",
          "text": [
            "basharat ali Secured GPA: 2.9\n"
          ],
          "name": "stdout"
        }
      ]
    },
    {
      "cell_type": "code",
      "metadata": {
        "id": "Lq7TrxqZnxtq",
        "outputId": "3cd05dcf-d8e2-423d-ed57-e729e7524b12",
        "colab": {
          "base_uri": "https://localhost:8080/",
          "height": 35
        }
      },
      "source": [
        "Full_name[0]"
      ],
      "execution_count": 5,
      "outputs": [
        {
          "output_type": "execute_result",
          "data": {
            "application/vnd.google.colaboratory.intrinsic+json": {
              "type": "string"
            },
            "text/plain": [
              "'b'"
            ]
          },
          "metadata": {
            "tags": []
          },
          "execution_count": 5
        }
      ]
    },
    {
      "cell_type": "code",
      "metadata": {
        "id": "8REG2G5BoCpv",
        "outputId": "bf7236e3-66d4-4a50-e214-1046774a9655",
        "colab": {
          "base_uri": "https://localhost:8080/",
          "height": 35
        }
      },
      "source": [
        "Full_name[0:3]"
      ],
      "execution_count": 6,
      "outputs": [
        {
          "output_type": "execute_result",
          "data": {
            "application/vnd.google.colaboratory.intrinsic+json": {
              "type": "string"
            },
            "text/plain": [
              "'bas'"
            ]
          },
          "metadata": {
            "tags": []
          },
          "execution_count": 6
        }
      ]
    },
    {
      "cell_type": "code",
      "metadata": {
        "id": "2sAO_FHJoCrs"
      },
      "source": [
        "list_a = [1,2,4,10]"
      ],
      "execution_count": 8,
      "outputs": []
    },
    {
      "cell_type": "code",
      "metadata": {
        "id": "JT56-5JSolOr",
        "outputId": "83a15be0-de79-4ddc-a779-65ffceaa52ee",
        "colab": {
          "base_uri": "https://localhost:8080/"
        }
      },
      "source": [
        "list_a[0:3]\r\n"
      ],
      "execution_count": 9,
      "outputs": [
        {
          "output_type": "execute_result",
          "data": {
            "text/plain": [
              "[1, 2, 4]"
            ]
          },
          "metadata": {
            "tags": []
          },
          "execution_count": 9
        }
      ]
    },
    {
      "cell_type": "code",
      "metadata": {
        "id": "1bVGlN0epIYV",
        "outputId": "9c5259bc-032d-4b59-e649-83d45d472207",
        "colab": {
          "base_uri": "https://localhost:8080/"
        }
      },
      "source": [
        "list_b = ['Ali', 12, 'M']\r\n",
        "type(list_b[1])"
      ],
      "execution_count": 12,
      "outputs": [
        {
          "output_type": "execute_result",
          "data": {
            "text/plain": [
              "int"
            ]
          },
          "metadata": {
            "tags": []
          },
          "execution_count": 12
        }
      ]
    },
    {
      "cell_type": "code",
      "metadata": {
        "id": "8pbEg4JvpYw3",
        "outputId": "8d7750de-48d6-4213-dcfc-948c052ba44b",
        "colab": {
          "base_uri": "https://localhost:8080/"
        }
      },
      "source": [
        "info_list = [['Asad', 23], ['Hussain', 25]]\r\n",
        "info_list[0]"
      ],
      "execution_count": 16,
      "outputs": [
        {
          "output_type": "execute_result",
          "data": {
            "text/plain": [
              "['Asad', 23]"
            ]
          },
          "metadata": {
            "tags": []
          },
          "execution_count": 16
        }
      ]
    },
    {
      "cell_type": "code",
      "metadata": {
        "id": "9uwvC5--pswm",
        "outputId": "9c96c697-2c4b-445c-ec41-d64b5598e5af",
        "colab": {
          "base_uri": "https://localhost:8080/"
        }
      },
      "source": [
        "info_list[0][1]"
      ],
      "execution_count": 17,
      "outputs": [
        {
          "output_type": "execute_result",
          "data": {
            "text/plain": [
              "23"
            ]
          },
          "metadata": {
            "tags": []
          },
          "execution_count": 17
        }
      ]
    },
    {
      "cell_type": "code",
      "metadata": {
        "id": "ZdBa8-IGpyMc",
        "outputId": "e79a89e3-4aa3-4bb5-9512-1eb97a353ee5",
        "colab": {
          "base_uri": "https://localhost:8080/",
          "height": 35
        }
      },
      "source": [
        "info_list[0][0][0]"
      ],
      "execution_count": 19,
      "outputs": [
        {
          "output_type": "execute_result",
          "data": {
            "application/vnd.google.colaboratory.intrinsic+json": {
              "type": "string"
            },
            "text/plain": [
              "'A'"
            ]
          },
          "metadata": {
            "tags": []
          },
          "execution_count": 19
        }
      ]
    },
    {
      "cell_type": "markdown",
      "metadata": {
        "id": "1BoLDjSSqoML"
      },
      "source": [
        "Only string can be sliced but not the integer"
      ]
    },
    {
      "cell_type": "code",
      "metadata": {
        "id": "u84f9ftPqnhS",
        "outputId": "7bd6fc8b-4f4c-49e0-cb7a-8d375a8f372f",
        "colab": {
          "base_uri": "https://localhost:8080/",
          "height": 35
        }
      },
      "source": [
        "info_dict = {'name':'Ali', 'age': 20 , 'addr': 'Karachi'}\r\n",
        "info_dict['name']"
      ],
      "execution_count": 20,
      "outputs": [
        {
          "output_type": "execute_result",
          "data": {
            "application/vnd.google.colaboratory.intrinsic+json": {
              "type": "string"
            },
            "text/plain": [
              "'Ali'"
            ]
          },
          "metadata": {
            "tags": []
          },
          "execution_count": 20
        }
      ]
    },
    {
      "cell_type": "markdown",
      "metadata": {
        "id": "WmXQK9f1rMeJ"
      },
      "source": [
        "for hashing we use { }, it helps us in searching values from their value pairs rather than index numbers, dictionary can be overrided if the same label is yused for the next item, though hashing does not accomodate replacement of labels."
      ]
    },
    {
      "cell_type": "code",
      "metadata": {
        "id": "a05WW0CLrqr9",
        "outputId": "52a66658-a5da-4dc4-dda4-2fb8db5725d2",
        "colab": {
          "base_uri": "https://localhost:8080/"
        }
      },
      "source": [
        "info_dict['prov'] = 'Sindh'\r\n",
        "info_dict"
      ],
      "execution_count": 21,
      "outputs": [
        {
          "output_type": "execute_result",
          "data": {
            "text/plain": [
              "{'addr': 'Karachi', 'age': 20, 'name': 'Ali', 'prov': 'Sindh'}"
            ]
          },
          "metadata": {
            "tags": []
          },
          "execution_count": 21
        }
      ]
    },
    {
      "cell_type": "code",
      "metadata": {
        "id": "b5ifXH33shKb",
        "outputId": "74fa8be5-bcf8-4aca-ce4f-cd6ee631db71",
        "colab": {
          "base_uri": "https://localhost:8080/"
        }
      },
      "source": [
        "for counter in info_dict:\r\n",
        "  print(counter)"
      ],
      "execution_count": 22,
      "outputs": [
        {
          "output_type": "stream",
          "text": [
            "name\n",
            "age\n",
            "addr\n",
            "prov\n"
          ],
          "name": "stdout"
        }
      ]
    },
    {
      "cell_type": "markdown",
      "metadata": {
        "id": "l4g_iBTEsm6z"
      },
      "source": [
        "here info_dict = range of the loop"
      ]
    },
    {
      "cell_type": "code",
      "metadata": {
        "id": "sgOMfdRBsr90",
        "outputId": "295bb954-b9d8-41a7-b203-54ac0d9b3d8b",
        "colab": {
          "base_uri": "https://localhost:8080/"
        }
      },
      "source": [
        "list_proof = ['Boy', 20 , 'blue']\r\n",
        "len(list_proof)"
      ],
      "execution_count": 23,
      "outputs": [
        {
          "output_type": "execute_result",
          "data": {
            "text/plain": [
              "3"
            ]
          },
          "metadata": {
            "tags": []
          },
          "execution_count": 23
        }
      ]
    },
    {
      "cell_type": "code",
      "metadata": {
        "id": "0uyke9Pxsr_R"
      },
      "source": [
        "for counter in list_proof:\r\n",
        "  if counter = 'blue':\r\n",
        "    print(counter)\r\n",
        "    else:\r\n",
        "      print(not available)"
      ],
      "execution_count": null,
      "outputs": []
    }
  ]
}